{
 "cells": [
  {
   "cell_type": "code",
   "execution_count": 1,
   "metadata": {},
   "outputs": [],
   "source": [
    "import sys\n",
    "sys.path.append('/home1/liushaoweihua/jupyterlab/utils/ner')\n",
    "from time_extractor import TimeExtractor\n",
    "te = TimeExtractor()"
   ]
  },
  {
   "cell_type": "code",
   "execution_count": null,
   "metadata": {},
   "outputs": [],
   "source": [
    "te.parse('七点十分')"
   ]
  },
  {
   "cell_type": "code",
   "execution_count": 2,
   "metadata": {},
   "outputs": [
    {
     "name": "stdout",
     "output_type": "stream",
     "text": [
      "[2019, 7, 21, 21, 0, -1]\n",
      "[2019, 7, 21, 21, 0, -1]\n",
      "[2019, 7, 21, 21, 0, -1]\n"
     ]
    },
    {
     "data": {
      "text/plain": [
       "'{\"type\": \"timestamp\", \"timestamp\": \"2019-07-21 21:00:00\", \"timetoken\": \"1半小时后\"}'"
      ]
     },
     "execution_count": 2,
     "metadata": {},
     "output_type": "execute_result"
    }
   ],
   "source": [
    "te.parse('一个半小时后')"
   ]
  },
  {
   "cell_type": "code",
   "execution_count": 3,
   "metadata": {},
   "outputs": [
    {
     "name": "stdout",
     "output_type": "stream",
     "text": [
      "[2019, 7, 21, 21, 0, -1]\n",
      "[2019, 7, 21, 21, 30, -1]\n",
      "[2019, 7, 21, 21, 30, -1]\n"
     ]
    },
    {
     "data": {
      "text/plain": [
       "'{\"type\": \"timestamp\", \"timestamp\": \"2019-07-21 21:30:00\", \"timetoken\": \"1小时半\"}'"
      ]
     },
     "execution_count": 3,
     "metadata": {},
     "output_type": "execute_result"
    }
   ],
   "source": [
    "te.parse('一小时半后')"
   ]
  },
  {
   "cell_type": "code",
   "execution_count": null,
   "metadata": {},
   "outputs": [],
   "source": []
  }
 ],
 "metadata": {
  "kernelspec": {
   "display_name": "Python 3",
   "language": "python",
   "name": "python3"
  },
  "language_info": {
   "codemirror_mode": {
    "name": "ipython",
    "version": 3
   },
   "file_extension": ".py",
   "mimetype": "text/x-python",
   "name": "python",
   "nbconvert_exporter": "python",
   "pygments_lexer": "ipython3",
   "version": "3.6.8"
  }
 },
 "nbformat": 4,
 "nbformat_minor": 2
}
